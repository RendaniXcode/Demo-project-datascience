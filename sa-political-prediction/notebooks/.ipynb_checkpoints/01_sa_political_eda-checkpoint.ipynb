{
 "cells": [
  {
   "cell_type": "markdown",
   "metadata": {
    "tags": []
   },
   "source": [
    "# South African Political Party Prediction - EDA\n",
    "\n",
    "Exploratory Data Analysis of SA Election Data (2009-2024)"
   ]
  },
  {
   "cell_type": "code",
   "execution_count": 1,
   "metadata": {
    "tags": []
   },
   "outputs": [
    {
     "ename": "ModuleNotFoundError",
     "evalue": "No module named 'seaborn'",
     "output_type": "error",
     "traceback": [
      "\u001b[0;31m---------------------------------------------------------------------------\u001b[0m",
      "\u001b[0;31mModuleNotFoundError\u001b[0m                       Traceback (most recent call last)",
      "Cell \u001b[0;32mIn[1], line 5\u001b[0m\n\u001b[1;32m      3\u001b[0m \u001b[38;5;28;01mimport\u001b[39;00m \u001b[38;5;21;01mnumpy\u001b[39;00m \u001b[38;5;28;01mas\u001b[39;00m \u001b[38;5;21;01mnp\u001b[39;00m\n\u001b[1;32m      4\u001b[0m \u001b[38;5;28;01mimport\u001b[39;00m \u001b[38;5;21;01mmatplotlib\u001b[39;00m\u001b[38;5;21;01m.\u001b[39;00m\u001b[38;5;21;01mpyplot\u001b[39;00m \u001b[38;5;28;01mas\u001b[39;00m \u001b[38;5;21;01mplt\u001b[39;00m\n\u001b[0;32m----> 5\u001b[0m \u001b[38;5;28;01mimport\u001b[39;00m \u001b[38;5;21;01mseaborn\u001b[39;00m \u001b[38;5;28;01mas\u001b[39;00m \u001b[38;5;21;01msns\u001b[39;00m\n\u001b[1;32m      6\u001b[0m \u001b[38;5;28;01mfrom\u001b[39;00m \u001b[38;5;21;01mpathlib\u001b[39;00m \u001b[38;5;28;01mimport\u001b[39;00m Path\n\u001b[1;32m      7\u001b[0m \u001b[38;5;28;01mimport\u001b[39;00m \u001b[38;5;21;01mwarnings\u001b[39;00m\n",
      "\u001b[0;31mModuleNotFoundError\u001b[0m: No module named 'seaborn'"
     ]
    }
   ],
   "source": [
    "# Setup and Imports (Essential packages only)\n",
    "import pandas as pd\n",
    "import numpy as np\n",
    "import matplotlib.pyplot as plt\n",
    "from pathlib import Path\n",
    "import warnings\n",
    "\n",
    "# Configuration\n",
    "warnings.filterwarnings('ignore')\n",
    "plt.style.use('default')\n",
    "\n",
    "# Set up plotting parameters for beautiful charts\n",
    "plt.rcParams['figure.figsize'] = (12, 8)\n",
    "plt.rcParams['font.size'] = 10\n",
    "plt.rcParams['axes.grid'] = True\n",
    "plt.rcParams['grid.alpha'] = 0.3\n",
    "\n",
    "# Define South African political party colors\n",
    "SA_COLORS = {\n",
    "    'ANC': '#006600',      # Green\n",
    "    'DA': '#005ba6',       # Blue  \n",
    "    'EFF': '#FF0000',      # Red\n",
    "    'IFP': '#FFD700',      # Gold\n",
    "    'FF+': '#FFA500',      # Orange\n",
    "    'ACDP': '#800080',     # Purple\n",
    "    'Other': '#808080'     # Gray\n",
    "}\n",
    "\n",
    "print(\"🇿🇦 SA Political Data - Exploratory Data Analysis\")\n",
    "print(\"=\" * 60)\n",
    "print(\"✅ Essential libraries imported successfully\")\n",
    "print(\"🎨 SA political party colors configured\")\n",
    "print(\"📊 Ready for data analysis!\")\n",
    "\n",
    "# Display versions\n",
    "print(f\"\\n📦 Pandas version: {pd.__version__}\")\n",
    "print(f\"📦 NumPy version: {np.__version__}\")\n",
    "print(f\"📦 Matplotlib version: {plt.matplotlib.__version__}\")"
   ]
  },
  {
   "cell_type": "code",
   "execution_count": 1,
   "metadata": {
    "tags": []
   },
   "outputs": [
    {
     "ename": "ModuleNotFoundError",
     "evalue": "No module named 'seaborn'",
     "output_type": "error",
     "traceback": [
      "\u001b[0;31m---------------------------------------------------------------------------\u001b[0m",
      "\u001b[0;31mModuleNotFoundError\u001b[0m                       Traceback (most recent call last)",
      "Cell \u001b[0;32mIn[1], line 5\u001b[0m\n\u001b[1;32m      3\u001b[0m \u001b[38;5;28;01mimport\u001b[39;00m \u001b[38;5;21;01mnumpy\u001b[39;00m \u001b[38;5;28;01mas\u001b[39;00m \u001b[38;5;21;01mnp\u001b[39;00m\n\u001b[1;32m      4\u001b[0m \u001b[38;5;28;01mimport\u001b[39;00m \u001b[38;5;21;01mmatplotlib\u001b[39;00m\u001b[38;5;21;01m.\u001b[39;00m\u001b[38;5;21;01mpyplot\u001b[39;00m \u001b[38;5;28;01mas\u001b[39;00m \u001b[38;5;21;01mplt\u001b[39;00m\n\u001b[0;32m----> 5\u001b[0m \u001b[38;5;28;01mimport\u001b[39;00m \u001b[38;5;21;01mseaborn\u001b[39;00m \u001b[38;5;28;01mas\u001b[39;00m \u001b[38;5;21;01msns\u001b[39;00m\n\u001b[1;32m      6\u001b[0m \u001b[38;5;28;01mfrom\u001b[39;00m \u001b[38;5;21;01mpathlib\u001b[39;00m \u001b[38;5;28;01mimport\u001b[39;00m Path\n\u001b[1;32m      7\u001b[0m \u001b[38;5;28;01mimport\u001b[39;00m \u001b[38;5;21;01mwarnings\u001b[39;00m\n",
      "\u001b[0;31mModuleNotFoundError\u001b[0m: No module named 'seaborn'"
     ]
    }
   ],
   "source": [
    "# Setup and Imports\n",
    "import pandas as pd\n",
    "import numpy as np\n",
    "import matplotlib.pyplot as plt\n",
    "import seaborn as sns\n",
    "from pathlib import Path\n",
    "import warnings\n",
    "\n",
    "warnings.filterwarnings('ignore')\n",
    "plt.style.use('default')\n",
    "plt.rcParams['figure.figsize'] = (12, 8)\n",
    "\n",
    "print(\"🇿🇦 SA Political Data - Exploratory Data Analysis\")\n",
    "print(\"=\" * 60)\n",
    "print(\"✅ All libraries imported successfully\")"
   ]
  },
  {
   "cell_type": "code",
   "execution_count": null,
   "metadata": {},
   "outputs": [],
   "source": [
    "# Load Local Files\n",
    "raw_data_dir = Path(\"../data/raw\")  # Go up one level from notebooks\n",
    "processed_data_dir = Path(\"../data/processed\")\n",
    "processed_data_dir.mkdir(exist_ok=True)\n",
    "\n",
    "# File mapping\n",
    "file_mapping = {\n",
    "    2009: \"National_2009.xls\",\n",
    "    2014: \"National_2014.xls\", \n",
    "    2019: \"National_2019.xls\",\n",
    "    2024: \"National_2024.xls\"\n",
    "}\n",
    "\n",
    "print(\"📁 Checking election files...\")\n",
    "for year, filename in file_mapping.items():\n",
    "    file_path = raw_data_dir / filename\n",
    "    if file_path.exists():\n",
    "        size = file_path.stat().st_size / 1024\n",
    "        print(f\"✅ Found: {filename} ({size:.1f} KB)\")\n",
    "    else:\n",
    "        print(f\"❌ Missing: {filename}\")"
   ]
  },
  {
   "cell_type": "code",
   "execution_count": null,
   "metadata": {},
   "outputs": [],
   "source": [
    "# Test reading one file\n",
    "test_file = raw_data_dir / \"National_2009.xls\"\n",
    "\n",
    "if test_file.exists():\n",
    "    print(f\"📊 Testing file: {test_file.name}\")\n",
    "    \n",
    "    try:\n",
    "        df = pd.read_excel(test_file, engine='openpyxl')\n",
    "        print(f\"✅ Successfully loaded! Shape: {df.shape}\")\n",
    "        \n",
    "        print(\"\\n📋 First 10 rows preview:\")\n",
    "        for i in range(min(10, len(df))):\n",
    "            row_data = [str(cell)[:20] for cell in df.iloc[i] if pd.notna(cell) and str(cell).strip()]\n",
    "            if len(row_data) > 1:\n",
    "                print(f\"  Row {i:2d}: {' | '.join(row_data[:4])}\")\n",
    "                \n",
    "    except Exception as e:\n",
    "        print(f\"❌ Error reading file: {e}\")\n",
    "else:\n",
    "    print(\"❌ Test file not found\")"
   ]
  }
 ],
 "metadata": {
  "kernelspec": {
   "display_name": "sagemaker-distribution:Python",
   "language": "python",
   "name": "conda-env-sagemaker-distribution-py"
  },
  "language_info": {
   "codemirror_mode": {
    "name": "ipython",
    "version": 3
   },
   "file_extension": ".py",
   "mimetype": "text/x-python",
   "name": "python",
   "nbconvert_exporter": "python",
   "pygments_lexer": "ipython3",
   "version": "3.10.14"
  }
 },
 "nbformat": 4,
 "nbformat_minor": 4
}
